{
 "cells": [
  {
   "cell_type": "code",
   "execution_count": 17,
   "id": "742c3f56-0062-4be8-82a7-4c4bacf1bade",
   "metadata": {},
   "outputs": [],
   "source": [
    "import cv2\n",
    "import numpy as np\n",
    "import matplotlib.pyplot as plt\n"
   ]
  },
  {
   "cell_type": "code",
   "execution_count": 21,
   "id": "453a2093-0347-4d79-b979-4aba74810f7c",
   "metadata": {},
   "outputs": [],
   "source": [
    "# Load the image\n",
    "image = cv2.imread('image.jpg')\n",
    "if image is None:\n",
    "    print(\"Error: Image not found. Please make sure 'Image.jpg' is in the same directory.\")\n",
    "    exit()\n",
    "\n"
   ]
  },
  {
   "cell_type": "code",
   "execution_count": 15,
   "id": "13b975dd-8371-4e9c-ac51-0eca4cb46660",
   "metadata": {},
   "outputs": [
    {
     "data": {
      "text/plain": [
       "True"
      ]
     },
     "execution_count": 15,
     "metadata": {},
     "output_type": "execute_result"
    }
   ],
   "source": [
    "# Convert to grayscale\n",
    "gray = cv2.cvtColor(image, cv2.COLOR_BGR2GRAY)\n",
    "cv2.imwrite('grayscale_image.jpg', gray)\n",
    "\n"
   ]
  },
  {
   "cell_type": "code",
   "execution_count": 16,
   "id": "7408aba0-ef24-495e-9356-7ec179e64309",
   "metadata": {},
   "outputs": [
    {
     "data": {
      "text/plain": [
       "True"
      ]
     },
     "execution_count": 16,
     "metadata": {},
     "output_type": "execute_result"
    }
   ],
   "source": [
    "# Resize the image while maintaining aspect ratio\n",
    "height, width = image.shape[:2]\n",
    "new_width = 400\n",
    "aspect_ratio = new_width / float(width)\n",
    "new_height = int(height * aspect_ratio)\n",
    "resized = cv2.resize(image, (new_width, new_height))\n",
    "cv2.imwrite('resized_image.jpg', resized)\n"
   ]
  },
  {
   "cell_type": "code",
   "execution_count": 6,
   "id": "3df49ed1-613c-4983-8fd3-749b62347e08",
   "metadata": {},
   "outputs": [
    {
     "data": {
      "text/plain": [
       "True"
      ]
     },
     "execution_count": 6,
     "metadata": {},
     "output_type": "execute_result"
    }
   ],
   "source": [
    "# Apply Gaussian blur with different kernel sizes\n",
    "blur_3x3 = cv2.GaussianBlur(image, (3, 3), 0)\n",
    "blur_5x5 = cv2.GaussianBlur(image, (5, 5), 0)\n",
    "blur_7x7 = cv2.GaussianBlur(image, (7, 7), 0)\n",
    "cv2.imwrite('blur_3x3.jpg', blur_3x3)\n",
    "cv2.imwrite('blur_5x5.jpg', blur_5x5)\n",
    "cv2.imwrite('blur_7x7.jpg', blur_7x7)\n"
   ]
  },
  {
   "cell_type": "code",
   "execution_count": 7,
   "id": "6478fd9c-ed2b-4202-843d-b2145c592ae7",
   "metadata": {},
   "outputs": [
    {
     "data": {
      "text/plain": [
       "True"
      ]
     },
     "execution_count": 7,
     "metadata": {},
     "output_type": "execute_result"
    }
   ],
   "source": [
    "# Canny edge detection with different thresholds\n",
    "canny_low = cv2.Canny(gray, 50, 100)\n",
    "canny_high = cv2.Canny(gray, 100, 200)\n",
    "cv2.imwrite('canny_low_threshold.jpg', canny_low)\n",
    "cv2.imwrite('canny_high_threshold.jpg', canny_high)\n"
   ]
  },
  {
   "cell_type": "code",
   "execution_count": 8,
   "id": "0a5bd1f9-b6a8-49cd-b117-2bbb0bf5ba64",
   "metadata": {},
   "outputs": [
    {
     "data": {
      "text/plain": [
       "True"
      ]
     },
     "execution_count": 8,
     "metadata": {},
     "output_type": "execute_result"
    }
   ],
   "source": [
    "# Draw red rectangles with different thicknesses\n",
    "rectangles = image.copy()\n",
    "cv2.rectangle(rectangles, (50, 50), (200, 150), (0, 0, 255), 2)\n",
    "cv2.rectangle(rectangles, (250, 100), (400, 200), (0, 0, 255), 5)\n",
    "cv2.rectangle(rectangles, (100, 200), (300, 300), (0, 0, 255), 10)\n",
    "cv2.imwrite('red_rectangles.jpg', rectangles)\n"
   ]
  },
  {
   "cell_type": "code",
   "execution_count": 9,
   "id": "c738aada-0e34-41f2-9064-3cd5a7a751e0",
   "metadata": {},
   "outputs": [
    {
     "data": {
      "text/plain": [
       "True"
      ]
     },
     "execution_count": 9,
     "metadata": {},
     "output_type": "execute_result"
    }
   ],
   "source": [
    "# Draw green circles with different radii\n",
    "circles = image.copy()\n",
    "cv2.circle(circles, (100, 100), 30, (0, 255, 0), -1)\n",
    "cv2.circle(circles, (300, 100), 50, (0, 255, 0), -1)\n",
    "cv2.circle(circles, (200, 300), 70, (0, 255, 0), -1)\n",
    "cv2.imwrite('green_circles.jpg', circles)\n"
   ]
  },
  {
   "cell_type": "code",
   "execution_count": 10,
   "id": "c9f83fac-0235-45de-9f85-1a12374e3ebc",
   "metadata": {},
   "outputs": [
    {
     "data": {
      "text/plain": [
       "True"
      ]
     },
     "execution_count": 10,
     "metadata": {},
     "output_type": "execute_result"
    }
   ],
   "source": [
    "# Gray Level Slicing\n",
    "# Slicing with background preservation\n",
    "slice_preserve = gray.copy()\n",
    "slice_preserve = np.where((slice_preserve >= 100) & (slice_preserve <= 200), 255, slice_preserve)\n",
    "cv2.imwrite('gray_slicing_preserve.jpg', slice_preserve)\n"
   ]
  },
  {
   "cell_type": "code",
   "execution_count": 11,
   "id": "4d2d82ef-c1cb-4aec-8b7d-14a99a5e7384",
   "metadata": {},
   "outputs": [
    {
     "name": "stdout",
     "output_type": "stream",
     "text": [
      "All tasks completed. Processed images saved successfully.\n"
     ]
    }
   ],
   "source": [
    "# Slicing without background preservation\n",
    "slice_no_bg = gray.copy()\n",
    "slice_no_bg = np.where((slice_no_bg >= 100) & (slice_no_bg <= 200), 255, 0)\n",
    "cv2.imwrite('gray_slicing_no_background.jpg', slice_no_bg)\n",
    "\n",
    "print(\"All tasks completed. Processed images saved successfully.\")\n"
   ]
  },
  {
   "cell_type": "code",
   "execution_count": null,
   "id": "6bb625c6-482d-42e6-ae6c-a79f4a353ab7",
   "metadata": {},
   "outputs": [],
   "source": []
  }
 ],
 "metadata": {
  "kernelspec": {
   "display_name": "Python 3 (ipykernel)",
   "language": "python",
   "name": "python3"
  },
  "language_info": {
   "codemirror_mode": {
    "name": "ipython",
    "version": 3
   },
   "file_extension": ".py",
   "mimetype": "text/x-python",
   "name": "python",
   "nbconvert_exporter": "python",
   "pygments_lexer": "ipython3",
   "version": "3.13.0"
  }
 },
 "nbformat": 4,
 "nbformat_minor": 5
}
